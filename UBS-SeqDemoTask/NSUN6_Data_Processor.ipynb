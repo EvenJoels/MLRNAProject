{
 "cells": [
  {
   "cell_type": "markdown",
   "metadata": {},
   "source": [
    "\n",
    "# Data Processor For NSUN6 Model Training Data\n"
   ]
  },
  {
   "cell_type": "markdown",
   "metadata": {},
   "source": [
    "[EXPLAIN]\n",
    "\n",
    "The following are adjustable values (best set to 50, 0.6)... "
   ]
  },
  {
   "cell_type": "code",
   "execution_count": null,
   "metadata": {},
   "outputs": [],
   "source": [
    "sample_count_threshold = 50;\n",
    "NSUN6_NSUN2_cutoff_factor = 0.6;\n",
    "pre_processed_data = \"ubsseq_preprocessed_data.xlsx\""
   ]
  },
  {
   "cell_type": "markdown",
   "metadata": {},
   "source": [
    "\n",
    "### Imports & Functions\n"
   ]
  },
  {
   "cell_type": "code",
   "execution_count": null,
   "metadata": {},
   "outputs": [],
   "source": [
    "import random\n",
    "import math\n",
    "import pandas as pd\n",
    "import numpy as np\n",
    "from pyfaidx import Fasta\n",
    "import matplotlib.pyplot as plt\n",
    "from matplotlib import colors\n",
    "import logomaker as lm\n",
    "import re"
   ]
  },
  {
   "cell_type": "code",
   "execution_count": null,
   "metadata": {},
   "outputs": [],
   "source": [
    "def count_iterable(i):\n",
    "    return sum(1 for e in i)"
   ]
  },
  {
   "cell_type": "code",
   "execution_count": null,
   "metadata": {},
   "outputs": [],
   "source": [
    "PATH = '../GenomeData/'\n",
    "def extract_seq_genome(genome, chrom, start, end, strand = '+'):\n",
    "    '''\n",
    "    Usage:\n",
    "        - If strand == '+', return sequence\n",
    "        - If strand == '-', return sequence revese complementary\n",
    "        - With hg38.get_seq(chrom, start, end, rc= strand == '-').seq get correct position of miRNA,\n",
    "        for mapping result, you should modify by yourself.\n",
    "\n",
    "    @author: Trung Duc Nguyen\n",
    "    '''\n",
    "\n",
    "    if genome == 'hsa':\n",
    "        genome = 'hg38'\n",
    "\n",
    "    gene = Fasta(f\"{PATH}/{genome}.fa\") \n",
    "    #hg38.get_seq('chr1', 100009588 + 1, 100009608, rc=False).seq\n",
    "    return(gene.get_seq(chrom, start+1, end, rc= strand == '-').seq)"
   ]
  },
  {
   "cell_type": "markdown",
   "metadata": {},
   "source": [
    "\n",
    "## Data Pre-Processing\n"
   ]
  },
  {
   "cell_type": "markdown",
   "metadata": {},
   "source": [
    "\n",
    "### Remove Less-Sampled Genes\n"
   ]
  },
  {
   "cell_type": "code",
   "execution_count": null,
   "metadata": {},
   "outputs": [],
   "source": [
    "data_raw = pd.read_excel(pre_processed_data)\n",
    "data_raw_shape = data_raw.shape"
   ]
  },
  {
   "cell_type": "code",
   "execution_count": null,
   "metadata": {},
   "outputs": [],
   "source": [
    "# Remove data sampled less than threshold\n",
    "data_sample_count = data_raw[['unconverted', 'converted']].sum(axis=1)\n",
    "data_significant = data_raw[data_sample_count > sample_count_threshold]\n",
    "# Remove data with unspecified chromosome\n",
    "data_significant = data_significant[data_significant['chrom'] != 'MT']\n",
    "data_significant_shape = data_significant.shape\n",
    "print(f\"Filtered data contains {data_significant_shape[0]} genes out of an initial {data_raw_shape[0]} genes, a {data_significant_shape[0]/data_raw_shape[0]*100:.2f}% retention\")"
   ]
  },
  {
   "cell_type": "markdown",
   "metadata": {},
   "source": [
    "\n",
    "### Sort Likely NSUN6 Affected Genes By Delta Ratio\n"
   ]
  },
  {
   "cell_type": "markdown",
   "metadata": {},
   "source": [
    "\n",
    "## Sequence Extraction\n"
   ]
  },
  {
   "cell_type": "markdown",
   "metadata": {},
   "source": [
    "\n",
    "## Structure Prediction\n"
   ]
  },
  {
   "cell_type": "markdown",
   "metadata": {},
   "source": [
    "\n",
    "## Final Formatting\n"
   ]
  }
 ],
 "metadata": {
  "language_info": {
   "name": "python"
  }
 },
 "nbformat": 4,
 "nbformat_minor": 2
}
