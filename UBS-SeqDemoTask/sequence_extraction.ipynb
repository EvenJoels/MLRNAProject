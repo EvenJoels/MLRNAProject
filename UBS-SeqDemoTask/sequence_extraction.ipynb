{
 "cells": [
  {
   "cell_type": "markdown",
   "metadata": {},
   "source": [
    "\n",
    "# Sequence Extraction Using Pyfaidx\n"
   ]
  },
  {
   "cell_type": "code",
   "execution_count": null,
   "metadata": {},
   "outputs": [],
   "source": [
    "sample_count_threshold = 50;\n",
    "NSUN6_NSUN2_cutoff_factor = 0.6; #arbitrary at the moment, between 0 and 1"
   ]
  },
  {
   "cell_type": "markdown",
   "metadata": {},
   "source": [
    "\n",
    "## Imports & Path Set-up\n"
   ]
  },
  {
   "cell_type": "code",
   "execution_count": 241,
   "metadata": {},
   "outputs": [],
   "source": [
    "import random\n",
    "import math\n",
    "import pandas as pd\n",
    "import numpy as np\n",
    "from pyfaidx import Fasta\n",
    "import matplotlib.pyplot as plt\n",
    "from matplotlib import colors\n",
    "import logomaker as lm\n",
    "\n",
    "PATH = '../GenomeData/'"
   ]
  },
  {
   "cell_type": "markdown",
   "metadata": {},
   "source": [
    "\n",
    "## Functions\n"
   ]
  },
  {
   "cell_type": "code",
   "execution_count": null,
   "metadata": {},
   "outputs": [],
   "source": [
    "def extract_seq_genome(genome, chrom, start, end, strand = '+'):\n",
    "    '''\n",
    "    ath: tair10\n",
    "    cel: cel235\n",
    "    hsa: hg38\n",
    "    mmu: mm10\n",
    "\n",
    "    Usage:\n",
    "        - If strand == '+', return sequence\n",
    "        - If strand == '-', return sequence revese complementary\n",
    "        - With hg38.get_seq(chrom, start, end, rc= strand == '-').seq get correct position of miRNA,\n",
    "        for mapping result, you should modify by yourself.\n",
    "    '''\n",
    "    \n",
    "    if genome == 'cel':\n",
    "        genome = 'cel235'\n",
    "    elif genome == 'hsa':\n",
    "        genome = 'hg38'\n",
    "    elif genome == 'mmu':\n",
    "        genome = 'mm10'\n",
    "    elif genome == 'ath':\n",
    "        genome = 'tair10'\n",
    "    elif genome == 'mml':\n",
    "        genome = 'Macaca_mulatta.Mmul_10.dna.toplevel'\n",
    "    elif genome == 'dre':\n",
    "        genome = 'Danio_rerio.GRCz11.dna.primary_assembly'\n",
    "    elif genome == 'dme':\n",
    "        genome = 'Drosophila_melanogaster.BDGP6.32.dna.toplevel'\n",
    "\n",
    "\n",
    "    gene = Fasta(f\"{PATH}/{genome}.fa\") \n",
    "    \n",
    "    #hg38.get_seq('chr1', 100009588 + 1, 100009608, rc=False).seq\n",
    "    return(gene.get_seq(chrom, start+1, end, rc= strand == '-').seq)"
   ]
  },
  {
   "cell_type": "markdown",
   "metadata": {},
   "source": [
    "\n",
    "## Preprocessed Data Handling\n"
   ]
  },
  {
   "cell_type": "markdown",
   "metadata": {},
   "source": [
    "The provided data needs to be read into a pandas data frame for further processing..."
   ]
  },
  {
   "cell_type": "code",
   "execution_count": null,
   "metadata": {},
   "outputs": [],
   "source": [
    "ubsseq_data_raw = pd.read_excel(\"ubsseq_preprocessed_data.xlsx\")\n",
    "ubsseq_data_raw_shape = ubsseq_data_raw.shape"
   ]
  },
  {
   "cell_type": "markdown",
   "metadata": {},
   "source": [
    "The data needs to be filtered to remove genes that were not sampled enough to be statistically significant, this is determined by the unconverted/converted attribute. If the combined sum of these attributes is less than ??? then the gene has not shown enough influence from methylation to be considered."
   ]
  },
  {
   "cell_type": "code",
   "execution_count": null,
   "metadata": {},
   "outputs": [],
   "source": [
    "ubsseq_data_sample_count = ubsseq_data_raw[['unconverted', 'converted']].sum(axis=1)\n",
    "ubsseq_data_significant = ubsseq_data_raw[ubsseq_data_sample_count > sample_count_threshold]\n",
    "ubsseq_data_significant = ubsseq_data_significant[ubsseq_data_significant['chrom'] != 'MT']\n",
    "ubsseq_data_significant_shape = ubsseq_data_significant.shape\n",
    "print(f\"Filtered data contains {ubsseq_data_significant_shape[0]} genes out of an initial {ubsseq_data_raw_shape[0]} genes, a {ubsseq_data_significant_shape[0]/ubsseq_data_raw_shape[0]*100:.2f}% retention\")"
   ]
  },
  {
   "cell_type": "markdown",
   "metadata": {},
   "source": [
    "\n",
    "## Ratio Control Selection\n"
   ]
  },
  {
   "cell_type": "markdown",
   "metadata": {},
   "source": [
    "A scatter graph will show the correlation between the control ratio and NSUN6 ratio to help determine which genes should be selected for the positive data set. \n",
    "- Can do both a strict and relax cut-off."
   ]
  },
  {
   "cell_type": "code",
   "execution_count": null,
   "metadata": {},
   "outputs": [],
   "source": [
    "plt.scatter(ubsseq_data_significant['ratio_siControl'], ubsseq_data_significant['ratio_siNSUN6'], label='Data Points')\n",
    "plt.xlabel('siControl Ratio')\n",
    "plt.ylabel('siNSUN6 ratio')\n",
    "\n",
    "a, b = np.polyfit(ubsseq_data_significant['ratio_siControl'], ubsseq_data_significant['ratio_siNSUN6'], 1)\n",
    "\n",
    "# Not sure how to adjust, come back to this later\n",
    "a = a - NSUN6_NSUN2_cutoff_factor\n",
    "\n",
    "plt.plot(ubsseq_data_significant['ratio_siControl'], a * np.array(ubsseq_data_significant['ratio_siControl']) + b, color='red', label='Line of Best Fit')\n",
    "\n",
    "# Joel's Test for Understanding\n",
    "#gene_search = ubsseq_data_significant[ubsseq_data_significant['gene_name'] == \"ENSG00000083444(PLOD1)\"]\n",
    "gene_search = ubsseq_data_significant[ubsseq_data_significant['delta_ratio'] > (1-a)]\n",
    "plt.scatter(gene_search['ratio_siControl'], gene_search['ratio_siNSUN6'], label='Gene Search')\n",
    "\n",
    "plt.show()"
   ]
  },
  {
   "cell_type": "markdown",
   "metadata": {},
   "source": [
    "delta ratio will be (control - NSUN6) / control\n",
    "\n",
    "!!! Need to adjust threshold to ensure more accurate reading of CTCCA motif comes through, otherwise NSUN2 modification is too present"
   ]
  },
  {
   "cell_type": "code",
   "execution_count": null,
   "metadata": {},
   "outputs": [],
   "source": [
    "print(f\"Best fit gradient is {a:.2f} and y-intercept is {b:.2f}\")\n",
    "ideal_delta_threshold = 1 - a + b\n",
    "print(f\"Ideal data threshold should be above delta ratio {(ideal_delta_threshold) * 100:.2f}%\")\n",
    "ubsseq_data_NSUN6 = ubsseq_data_significant[ubsseq_data_significant['delta_ratio'] >= ideal_delta_threshold]\n",
    "ubsseq_data_NSUN6_shape = ubsseq_data_NSUN6.shape\n",
    "print(f\"This threshold includes {ubsseq_data_NSUN6_shape[0]} samples out of the {ubsseq_data_significant_shape[0]} valid samples, a {ubsseq_data_NSUN6_shape[0]/ubsseq_data_significant_shape[0]*100:.2f}% retention\")\n",
    "\n",
    "#We might want to also explore data we assume not be modified by NSUN6, likely NSUN2\n",
    "ubsseq_data_NSUN2 = ubsseq_data_significant[ubsseq_data_significant['delta_ratio'] < ideal_delta_threshold]\n",
    "\n",
    "### Data clean\n",
    "ubsseq_data_NSUN6=ubsseq_data_NSUN6.drop([\n",
    "    'gene_type','gene_pos','unconverted','converted','ratio_siControl','ratio_siNSUN6','delta_ratio'\n",
    "    ], axis=1)\n",
    "ubsseq_data_NSUN2=ubsseq_data_NSUN2.drop([\n",
    "    'gene_type','gene_pos','unconverted','converted','ratio_siControl','ratio_siNSUN6','delta_ratio'\n",
    "    ], axis=1)"
   ]
  },
  {
   "cell_type": "code",
   "execution_count": null,
   "metadata": {},
   "outputs": [],
   "source": [
    "### distribution of data by delta ratio\n",
    "distribution_data = ubsseq_data_significant['delta_ratio']\n",
    "\n",
    "# N is the count in each bin, bins is the lower-limit of the bin\n",
    "N, bins, patches = plt.hist(distribution_data.to_list(), bins=100, linewidth=0.5, edgecolor=\"white\")\n",
    "\n",
    "# Now, we'll loop through our objects and set the color of each accordingly\n",
    "for thisbin, thispatch in zip(bins, patches):\n",
    "    if(thisbin > ideal_delta_threshold):\n",
    "        color = plt.cm.viridis(0.1)\n",
    "    else:\n",
    "        color = plt.cm.viridis(0.5)\n",
    "    thispatch.set_facecolor(color)\n",
    "\n",
    "plt.show()"
   ]
  },
  {
   "cell_type": "markdown",
   "metadata": {},
   "source": [
    "\n",
    "## Sequence Extraction\n"
   ]
  },
  {
   "cell_type": "markdown",
   "metadata": {},
   "source": [
    "Extend by 50:50, 30:70, 70:30 for each sequence - always length of 101"
   ]
  },
  {
   "cell_type": "code",
   "execution_count": null,
   "metadata": {},
   "outputs": [],
   "source": [
    "## Use the samples in df 'ubsseq_data_likely_NSUN6_modified'\n",
    "\n",
    "ubsseq_data_NSUN6['chrom'] = ubsseq_data_NSUN6['chrom'].replace(\n",
    "    [1,2,3,4,5,6,7,8,9,10,11,12,13,14,15,16,17,18,19,20,21,22, 'X'], \n",
    "    ['chr1','chr2','chr3','chr4','chr5','chr6','chr7','chr8','chr9','chr10','chr11','chr12','chr13','chr14','chr15','chr16','chr17','chr18','chr19','chr20','chr21','chr22','chrX'])\n",
    "\n",
    "#likely_NSUN6_modified_seq_extracted = ubsseq_data_likely_NSUN6_modified;\n",
    "seq_extract = [[],[],[]];\n",
    "\n",
    "for ind in ubsseq_data_NSUN6.index:\n",
    "    gene = ubsseq_data_NSUN6['gene_name'][ind]\n",
    "    chrome = ubsseq_data_NSUN6['chrom'][ind]\n",
    "    strand = ubsseq_data_NSUN6['strand'][ind]\n",
    "    pos = ubsseq_data_NSUN6['pos'][ind]\n",
    "    seq_extract[0].append(extract_seq_genome(\"hg38\", chrome, pos-1-50, pos+50, strand)) #50:50\n",
    "    seq_extract[1].append(extract_seq_genome(\"hg38\", chrome, pos-1-30, pos+70, strand)) #30:70\n",
    "    seq_extract[2].append(extract_seq_genome(\"hg38\", chrome, pos-1-70, pos+30, strand)) #70:30\n",
    "\n",
    "ubsseq_NSUN6_extracted = ubsseq_data_NSUN6.assign(\n",
    "    seq5050=seq_extract[0], seq3070=seq_extract[1], seq7030=seq_extract[2])"
   ]
  },
  {
   "cell_type": "markdown",
   "metadata": {},
   "source": [
    "The same can be done for the samples likely not modified by NSUN6"
   ]
  },
  {
   "cell_type": "code",
   "execution_count": null,
   "metadata": {},
   "outputs": [],
   "source": [
    "ubsseq_data_NSUN2['chrom'] = ubsseq_data_NSUN2['chrom'].replace(\n",
    "    [1,2,3,4,5,6,7,8,9,10,11,12,13,14,15,16,17,18,19,20,21,22, 'X'], \n",
    "    ['chr1','chr2','chr3','chr4','chr5','chr6','chr7','chr8','chr9','chr10','chr11','chr12','chr13','chr14','chr15','chr16','chr17','chr18','chr19','chr20','chr21','chr22','chrX'])\n",
    "\n",
    "#likely_NSUN6_modified_seq_extracted = ubsseq_data_likely_NSUN6_modified;\n",
    "seq_extract = [[],[],[]];\n",
    "\n",
    "for ind in ubsseq_data_NSUN2.index:\n",
    "    gene = ubsseq_data_NSUN2['gene_name'][ind]\n",
    "    chrome = ubsseq_data_NSUN2['chrom'][ind]\n",
    "    strand = ubsseq_data_NSUN2['strand'][ind]\n",
    "    pos = ubsseq_data_NSUN2['pos'][ind]\n",
    "    seq_extract[0].append(extract_seq_genome(\"hg38\", chrome, pos-1-50, pos+50, strand)) #50:50\n",
    "    seq_extract[1].append(extract_seq_genome(\"hg38\", chrome, pos-1-30, pos+70, strand)) #30:70\n",
    "    seq_extract[2].append(extract_seq_genome(\"hg38\", chrome, pos-1-70, pos+30, strand)) #70:30\n",
    "\n",
    "ubsseq_NSUN2_extracted = ubsseq_data_NSUN2.assign(\n",
    "    seq5050=seq_extract[0], seq3070=seq_extract[1], seq7030=seq_extract[2])"
   ]
  },
  {
   "cell_type": "markdown",
   "metadata": {},
   "source": [
    "\n",
    "## Motif Sequence Logo\n"
   ]
  },
  {
   "cell_type": "markdown",
   "metadata": {},
   "source": [
    "Generate a sequence logo. To do so we focus on the nucleotides immediately adjacent to the methylated 'C' theoretically in index 50. This value should be in the centre of each extended sequence so we will just take the values from 45 to 56. "
   ]
  },
  {
   "cell_type": "code",
   "execution_count": null,
   "metadata": {},
   "outputs": [],
   "source": [
    "ubsseq_NSUN6_extracted_5050 = ubsseq_NSUN6_extracted['seq5050'].to_list()\n",
    "for i in range (0, len(ubsseq_NSUN6_extracted_5050)):\n",
    "    ubsseq_NSUN6_extracted_5050[i] = ubsseq_NSUN6_extracted_5050[i][45:56]\n",
    "counts_mat = lm.alignment_to_matrix(ubsseq_NSUN6_extracted_5050)\n",
    "\n",
    "# Counts matrix -> Information matrix\n",
    "info_mat = lm.transform_matrix(counts_mat, from_type='counts', to_type='information')\n",
    "\n",
    "logo_count = lm.Logo(df=counts_mat,\n",
    "               font_name='Arial Rounded MT Bold',\n",
    "               figsize=(10,3)) # Can change to plot entropy or percentage instead of count\n",
    "logo_count.ax.set_xlabel('Position',fontsize=14)\n",
    "logo_count.ax.set_ylabel('Count', labelpad=-1,fontsize=14)\n",
    "\n",
    "logo_info = lm.Logo(df=info_mat,\n",
    "               font_name='Arial Rounded MT Bold',\n",
    "               figsize=(10,3)) # Can change to plot entropy or percentage instead of count\n",
    "logo_info.ax.set_xlabel('Position',fontsize=14)\n",
    "logo_info.ax.set_ylabel('Information (bits)', labelpad=-1,fontsize=14)"
   ]
  },
  {
   "cell_type": "markdown",
   "metadata": {},
   "source": [
    "The above sequence logo shows that all of the data is correctly centred around the sampled cytosine and also shows the known NSUN6 motif 'CTCCA' (or 'CUCCA' but T<->U).\n",
    "\n",
    "Now we can explore the data that was cut off in a second sequence logo"
   ]
  },
  {
   "cell_type": "code",
   "execution_count": null,
   "metadata": {},
   "outputs": [],
   "source": [
    "ubsseq_NSUN2_extracted_5050 = ubsseq_NSUN2_extracted['seq5050'].to_list()\n",
    "for i in range (0, len(ubsseq_NSUN2_extracted_5050)):\n",
    "    ubsseq_NSUN2_extracted_5050[i] = ubsseq_NSUN2_extracted_5050[i][45:56]\n",
    "counts_mat = lm.alignment_to_matrix(ubsseq_NSUN2_extracted_5050)\n",
    "\n",
    "# Counts matrix -> Information matrix\n",
    "info_mat = lm.transform_matrix(counts_mat, from_type='counts', to_type='information')\n",
    "\n",
    "logo_count = lm.Logo(df=counts_mat,\n",
    "               font_name='Arial Rounded MT Bold',\n",
    "               figsize=(10,3)) # Can change to plot entropy or percentage instead of count\n",
    "logo_count.ax.set_xlabel('Position',fontsize=14)\n",
    "logo_count.ax.set_ylabel('Count', labelpad=-1,fontsize=14)\n",
    "\n",
    "logo_info = lm.Logo(df=info_mat,\n",
    "               font_name='Arial Rounded MT Bold',\n",
    "               figsize=(10,3)) # Can change to plot entropy or percentage instead of count\n",
    "logo_info.ax.set_xlabel('Position',fontsize=14)\n",
    "logo_info.ax.set_ylabel('Information (bits)', labelpad=-1,fontsize=14)"
   ]
  },
  {
   "cell_type": "markdown",
   "metadata": {},
   "source": [
    "\n",
    "## Saving Back To Fasta\n"
   ]
  },
  {
   "cell_type": "markdown",
   "metadata": {},
   "source": [
    "Add them to a fasta file. Label fasta entries as...\n",
    "- posx-50-50\n",
    "- posx-30-70\n",
    "- posx-70-30"
   ]
  },
  {
   "cell_type": "code",
   "execution_count": null,
   "metadata": {},
   "outputs": [],
   "source": [
    "NSUN6_pos_fasta = []\n",
    "NSUN6_pos_csv = []\n",
    "for ind in ubsseq_NSUN6_extracted.index:\n",
    "    gene_name = ubsseq_NSUN6_extracted['gene_name'][ind]\n",
    "    NSUN6_pos_fasta.append('>%s_5050\\n%s' % (gene_name, ubsseq_NSUN6_extracted['seq5050'][ind]))\n",
    "    NSUN6_pos_fasta.append('>%s_3070\\n%s' % (gene_name, ubsseq_NSUN6_extracted['seq3070'][ind]))\n",
    "    NSUN6_pos_fasta.append('>%s_7030\\n%s' % (gene_name, ubsseq_NSUN6_extracted['seq7030'][ind]))\n",
    "    NSUN6_pos_csv.append('%s,5050,%s' % (gene_name, ubsseq_NSUN6_extracted['seq5050'][ind]))\n",
    "    NSUN6_pos_csv.append('%s,3070,%s' % (gene_name, ubsseq_NSUN6_extracted['seq3070'][ind]))\n",
    "    NSUN6_pos_csv.append('%s,7030,%s' % (gene_name, ubsseq_NSUN6_extracted['seq7030'][ind]))\n",
    "\n",
    "with open('out/NSUN6_pos_extend.fasta', 'w') as file:\n",
    "     file.write('\\n'.join(NSUN6_pos_fasta))\n",
    "\n",
    "with open('out/NSUN6_pos_extend.csv', 'w') as file:\n",
    "     file.write('\\n'.join(NSUN6_pos_csv))"
   ]
  },
  {
   "cell_type": "markdown",
   "metadata": {},
   "source": [
    "And then create a Fasta file for our negative dataset..."
   ]
  },
  {
   "cell_type": "code",
   "execution_count": null,
   "metadata": {},
   "outputs": [],
   "source": [
    "NSUN6_neg_fasta = []\n",
    "NSUN6_neg_csv = []\n",
    "for ind in ubsseq_NSUN2_extracted.index:\n",
    "    gene_name = ubsseq_NSUN2_extracted['gene_name'][ind]\n",
    "    NSUN6_neg_fasta.append('>%s_5050\\n%s' % (gene_name, ubsseq_NSUN2_extracted['seq5050'][ind]))\n",
    "    NSUN6_neg_fasta.append('>%s_3070\\n%s' % (gene_name, ubsseq_NSUN2_extracted['seq3070'][ind]))\n",
    "    NSUN6_neg_fasta.append('>%s_7030\\n%s' % (gene_name, ubsseq_NSUN2_extracted['seq7030'][ind]))\n",
    "    NSUN6_neg_csv.append('%s,5050,%s' % (gene_name, ubsseq_NSUN2_extracted['seq5050'][ind]))\n",
    "    NSUN6_neg_csv.append('%s,3070,%s' % (gene_name, ubsseq_NSUN2_extracted['seq3070'][ind]))\n",
    "    NSUN6_neg_csv.append('%s,7030,%s' % (gene_name, ubsseq_NSUN2_extracted['seq7030'][ind]))\n",
    "\n",
    "with open('out/NSUN6_neg_extend.fasta', 'w') as file:\n",
    "     file.write('\\n'.join(NSUN6_neg_fasta))\n",
    "\n",
    "with open('out/NSUN6_neg_extend.csv', 'w') as file:\n",
    "     file.write('\\n'.join(NSUN6_neg_csv))"
   ]
  },
  {
   "cell_type": "markdown",
   "metadata": {},
   "source": [
    "\n",
    "## Calculating Structure\n"
   ]
  },
  {
   "cell_type": "markdown",
   "metadata": {},
   "source": [
    "To copy the fasta file into HPC3 run the following from this pc:"
   ]
  },
  {
   "cell_type": "code",
   "execution_count": null,
   "metadata": {
    "tags": [],
    "vscode": {
     "languageId": "shellscript"
    }
   },
   "outputs": [],
   "source": [
    "scp -r C:\\Users\\joele\\source\\repos\\MLRNAProject\\UBS-SeqDemoTask\\out\\NSUN6_pos_extend.csv jdevans@hpc3.ust.hk:/scratch/PI/tgx/jdevans/RNAFold"
   ]
  },
  {
   "cell_type": "markdown",
   "metadata": {},
   "source": [
    "On the linux system, RNAFold can be used to calculate the structure"
   ]
  },
  {
   "cell_type": "code",
   "execution_count": null,
   "metadata": {
    "vscode": {
     "languageId": "shellscript"
    }
   },
   "outputs": [],
   "source": [
    "python fold.py NSUN6_extend.csv Data_Out/NSUN6_extend_structure.csv\n",
    "#RNAfold <NSUN6_extended.fasta > NSUN6_structure.txt"
   ]
  },
  {
   "cell_type": "markdown",
   "metadata": {},
   "source": [
    "And then to download the output run the following from this pc:"
   ]
  },
  {
   "cell_type": "code",
   "execution_count": null,
   "metadata": {
    "vscode": {
     "languageId": "shellscript"
    }
   },
   "outputs": [],
   "source": [
    "scp -r jdevans@hpc3.ust.hk:/scratch/PI/tgx/jdevans/RNAFold/Data_Out/NSUN6_extend_structure.csv C:\\Users\\joele\\source\\repos\\MLRNAProject\\UBS-SeqDemoTask\\out\\"
   ]
  },
  {
   "cell_type": "markdown",
   "metadata": {},
   "source": [
    "Now split the returned file into three files for each positional condition (50:50, 30:70, 70:30)"
   ]
  },
  {
   "cell_type": "code",
   "execution_count": null,
   "metadata": {},
   "outputs": [],
   "source": [
    "df_input = pd.read_csv('out/NSUN6_extend_structure.csv', sep = '\\t', engine='python')\n",
    "df_input[df_input['positional'] == 5050].drop('positional', axis=1).to_csv('out/NSUN6_extend_structure_5050.csv', sep = '\\t', header = True, index = False)\n",
    "df_input[df_input['positional'] == 3070].drop('positional', axis=1).to_csv('out/NSUN6_extend_structure_3070.csv', sep = '\\t', header = True, index = False)\n",
    "df_input[df_input['positional'] == 7030].drop('positional', axis=1).to_csv('out/NSUN6_extend_structure_7030.csv', sep = '\\t', header = True, index = False)"
   ]
  },
  {
   "cell_type": "markdown",
   "metadata": {},
   "source": [
    "\n",
    "## Getting Base Pair Probability\n"
   ]
  },
  {
   "cell_type": "code",
   "execution_count": null,
   "metadata": {
    "vscode": {
     "languageId": "shellscript"
    }
   },
   "outputs": [],
   "source": [
    "scp -r jdevans@hpc3.ust.hk:/scratch/PI/tgx/jdevans/RNAFold/Test/'ENSG00000188157(AGRN)3070_dp.ps' C:\\Users\\joele\\source\\repos\\MLRNAProject\\UBS-SeqDemoTask\\out\\Test.ps\n",
    "\n",
    "sed \"/^start of base pair probability data$/,/showpage/p\"\n",
    "\n",
    "\n",
    "sed -n \"/^%start of base pair probability data/,/^showpage/p\" <file> | grep -v -e \"%start of base pair probability data\" -e \"showpage\"\n",
    "\n",
    "sed -n \"/^%start of base pair probability data/,/^showpage/p\" ENSG00000188157\\(AGRN\\)3070_dp.ps | grep -v -e \"%start of base pair probability data\" -e \"showpage\" > temp.txt\n",
    "\n",
    "sed -n \"/^%start of base pair probability data/,/^showpage/p\" ENSG00000188157\\(AGRN\\)3070_dp.ps | grep -v -e \"%start of base pair probability data\" -e \"showpage\" > \"${file/dp.ps/prob.txt}\"\n",
    "\n",
    "\n",
    "scp -r C:\\Users\\joele\\source\\repos\\MLRNAProject\\UBS-SeqDemoTask\\out\\NSUN6_neg_extend.fasta jdevans@hpc3.ust.hk:/scratch/PI/tgx/jdevans/RNAFold/Test\n",
    "scp -r C:\\Users\\joele\\source\\repos\\MLRNAProject\\UBS-SeqDemoTask\\out\\NSUN6_pos_extend.fasta jdevans@hpc3.ust.hk:/scratch/PI/tgx/jdevans/RNAFold/Test\n",
    "## Current Verison\n",
    "\n",
    "#positive_data=\"sample_structure.fasta\"\n",
    "positive_data=\"NSUN6_pos_extend.fasta\"\n",
    "RNAfold -p < $positive_data\n",
    "for i in *_dp.ps; do\n",
    "    sed -n \"/^%start of base pair probability data/,/^showpage/p\" $i | grep -v -e \"%start of base pair probability data\" -e \"showpage\" > \"${i/dp.ps/prob_pos.txt}\"\n",
    "done\n",
    "rm *.ps\n",
    "\n",
    "# New verison\n",
    "RNAfold -p < sample_structure.fasta\n",
    "sed -n \"/^%start of base pair probability data/,/^showpage/p\" ENSG00000188157\\(AGRN\\)3070_dp.ps | grep -v -e \"%start of base pair probability data\" -e \"showpage\" > temp.txt\n",
    "\n",
    "line=\"1 22 0.003403837 ubox\"\n",
    "line=\"${line/ /-}\"\n",
    "line=\"${line// /,}\"\n",
    "\n",
    "\n",
    "sed -n \"/^%start of base pair probability data/,/^showpage/p\" ENSG00000188157\\(AGRN\\)3070_dp.ps | grep -v -e \"%start of base pair probability data\" -e \"showpage\" | while read line \n",
    "do\n",
    "   # i j v box\n",
    "   line=\"${line/ /-}\"\n",
    "   line=\"${line// /,}\"\n",
    "   without_box=${line%','*}\n",
    "   echo $without_box # Should look like i-j,v,box\n",
    "done > temp.txt\n"
   ]
  },
  {
   "attachments": {
    "image.png": {
     "image/png": "[encoded data removed]"
    }
   },
   "cell_type": "markdown",
   "metadata": {},
   "source": [
    "Collect a bulk file for the base pairing probabilities using the following code\n",
    "- Need to filter out lbox data (only 0.95 probabilities)\n",
    "\n",
    "![image.png](attachment:image.png)"
   ]
  },
  {
   "cell_type": "code",
   "execution_count": null,
   "metadata": {
    "vscode": {
     "languageId": "shellscript"
    }
   },
   "outputs": [],
   "source": [
    "## To Upload\n",
    "scp -r C:\\Users\\joele\\source\\repos\\MLRNAProject\\UBS-SeqDemoTask\\out\\NSUN6_pos_extend.fasta jdevans@hpc3.ust.hk:/scratch/PI/tgx/jdevans/RNAFold/Test\n",
    "\n",
    "\n",
    "## Main\n",
    "positive_data=\"NSUN6_pos_extend.fasta\"\n",
    "RNAfold -p < $positive_data\n",
    "for i in *_dp.ps; do\n",
    "    sed -n \"/^%start of base pair probability data/,/^showpage/p\" $i | grep -v -e \"%start of base pair probability data\" -e \"lbox\" -e \"showpage\" | while read line \n",
    "    do\n",
    "        # i j v box\n",
    "        line=\"${line/ /-}\"\n",
    "        line=\"${line// /,}\"\n",
    "        without_box=${line%','*}\n",
    "        without_box+=','\n",
    "        name_positional=\"${i/_dp.ps/}\"\n",
    "        name_positional=\"${name_positional/_/,}\"\n",
    "        without_box+=$name_positional\n",
    "        echo $without_box # Should look like i-j,v,sequencing\n",
    "    done\n",
    "done > NSUN6_pos_extend_bpp.csv\n",
    "rm *.ps\n",
    "\n",
    "\n",
    "\n",
    "## To collect the file run on local shell\n",
    "scp -r jdevans@hpc3.ust.hk:/scratch/PI/tgx/jdevans/RNAFold/Test/NSUN6_pos_extend_bpp.csv C:\\Users\\joele\\source\\repos\\MLRNAProject\\UBS-SeqDemoTask\\out\\"
   ]
  },
  {
   "cell_type": "markdown",
   "metadata": {},
   "source": [
    "Now the file needs to be reformatted/merged (bpp is base-pairing-probability)\n",
    "- Split files by selections (i.e. bpp_3070, bpp_5050, bpp_7030)\n",
    "\n"
   ]
  },
  {
   "cell_type": "code",
   "execution_count": 333,
   "metadata": {},
   "outputs": [
    {
     "name": "stdout",
     "output_type": "stream",
     "text": [
      "(219, 4753)\n"
     ]
    }
   ],
   "source": [
    "bpp_data = pd.read_csv(r\"out\\NSUN6_pos_extend_bpp.csv\")\n",
    "current_head = bpp_data.columns\n",
    "bpp_data.columns = ['pair', 'P', 'gene', 'selection']\n",
    "bpp_data.loc[len(bpp_data.index)] = current_head\n",
    "#print(bpp_data)\n",
    "\n",
    "seq_data = pd.read_csv(r\"out/NSUN6_pos_extend.csv\")\n",
    "current_head = seq_data.columns\n",
    "seq_data.columns = ['gene','selection', 'seq']\n",
    "seq_data.loc[len(seq_data.index)] = current_head\n",
    "\n",
    "bpp_3070 = bpp_data[bpp_data['selection'] == 3070].drop('selection', axis=1)\n",
    "bpp_5050 = bpp_data[bpp_data['selection'] == 5050].drop('selection', axis=1)\n",
    "bpp_7030 = bpp_data[bpp_data['selection'] == 7030].drop('selection', axis=1)\n",
    "\n",
    "#new_order = ['Gene', 'Pair', 'P']\n",
    "#bpp_5050 = bpp_5050[new_order]\n",
    "#print(bpp_5050)\n",
    "\n",
    "genes = pd.unique(bpp_3070['gene'])\n",
    "\n",
    "RPUSD1 = bpp_3070.loc[bpp_3070['gene'] == genes[0]].drop('gene', axis=1)\n",
    "RPUSD1_pair = RPUSD1['pair'].to_list()\n",
    "RPUSD1_prob = RPUSD1['P'].to_list()\n",
    "RPUSD1_seq = seq_data[(seq_data['gene'] == genes[0]) & (seq_data['selection'] == 3070)]['seq'].to_list()\n",
    "\n",
    "\n",
    "joinedlist = [genes[0]] + RPUSD1_seq + RPUSD1_prob\n",
    "temp = np.array([joinedlist])\n",
    "df = pd.DataFrame(temp, columns=['gene', 'seq'] + RPUSD1_pair)\n",
    "\n",
    "\n",
    "## For 3070\n",
    "seq_3070 = seq_data[seq_data['selection'] == 3070].drop_duplicates(subset=['gene'])\n",
    "all_genes = seq_3070['gene'].to_list()\n",
    "all_seq = seq_3070['seq'].to_list()\n",
    "all_pairs = pd.unique(bpp_3070['pair'])\n",
    "\n",
    "df_pairs_probs = pd.DataFrame(index=range(len(all_genes)),columns=all_pairs)\n",
    "total_pairs_count = len(all_pairs)\n",
    "\n",
    "#pairs_with_probs = bpp_3070.loc[bpp_3070['gene'] == genes[0]].drop('gene', axis=1)\n",
    "#for pair in pairs_with_probs['pair']:\n",
    "#    df_pairs_probs.loc[0, pair] = pairs_with_probs[pairs_with_probs['pair']==pair]['P'].to_list()[0]\n",
    "\n",
    "\n",
    "\n",
    "# pairing_probs = bpp_3070.loc[bpp_3070['gene'] == genes[0]].drop('gene', axis=1)\n",
    "# pairings_unique = sorted(set(all_pairs) - set(pairing_probs['pair'].to_list()))\n",
    "# new_record = pd.DataFrame(np.array([np.full((len(pairings_unique)), 'NaN')]), columns=pairings_unique)\n",
    "\n",
    "# pairing_probs = pairing_probs.T\n",
    "# pairing_probs.columns = pairing_probs.iloc[0]\n",
    "# pairing_probs = pairing_probs.iloc[1:, :]\n",
    "# #print(pairing_probs)\n",
    "# pairing_probs = pairing_probs.assign(**new_record)\n",
    "# #print(pairing_probs)\n",
    "\n",
    "i = 0;\n",
    "for gene in all_genes:\n",
    "    pairs_with_probs = bpp_3070.loc[bpp_3070['gene'] == gene].drop('gene', axis=1)\n",
    "    for pair in pairs_with_probs['pair']:\n",
    "        probability = pairs_with_probs[pairs_with_probs['pair']==pair]['P'].to_list()[0]\n",
    "        df_pairs_probs.loc[i,pair] = probability;\n",
    "    i = i+1\n",
    "print(df_pairs_probs.shape)\n"
   ]
  },
  {
   "cell_type": "code",
   "execution_count": 334,
   "metadata": {},
   "outputs": [
    {
     "name": "stdout",
     "output_type": "stream",
     "text": [
      "(219, 2)\n"
     ]
    }
   ],
   "source": [
    "# Concatenate along the first axis (rows)\n",
    "restruct = pd.DataFrame([all_genes, all_seq]).T\n",
    "restruct.columns=['gene','seq']\n",
    "print(restruct.shape)\n",
    "restruct = pd.concat([restruct,df_pairs_probs], axis=1)\n",
    "\n",
    "\n",
    "restruct.to_csv('out/restruct_3070.csv', index=False)\n",
    "\n"
   ]
  }
 ],
 "metadata": {
  "kernelspec": {
   "display_name": "MLRNA",
   "language": "python",
   "name": "python3"
  },
  "language_info": {
   "codemirror_mode": {
    "name": "ipython",
    "version": 3
   },
   "file_extension": ".py",
   "mimetype": "text/x-python",
   "name": "python",
   "nbconvert_exporter": "python",
   "pygments_lexer": "ipython3",
   "version": "3.12.1"
  }
 },
 "nbformat": 4,
 "nbformat_minor": 2
}
