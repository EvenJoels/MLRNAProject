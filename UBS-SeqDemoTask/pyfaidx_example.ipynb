{
 "cells": [
  {
   "cell_type": "markdown",
   "metadata": {},
   "source": [
    "\n",
    "# Example Pyfaidx Code"
   ]
  },
  {
   "cell_type": "markdown",
   "metadata": {},
   "source": [
    "\n",
    "## Imports & Path Set-up\n"
   ]
  },
  {
   "cell_type": "code",
   "execution_count": 185,
   "metadata": {},
   "outputs": [
    {
     "ename": "ModuleNotFoundError",
     "evalue": "No module named 'matplotlib'",
     "output_type": "error",
     "traceback": [
      "\u001b[1;31m---------------------------------------------------------------------------\u001b[0m",
      "\u001b[1;31mModuleNotFoundError\u001b[0m                       Traceback (most recent call last)",
      "Cell \u001b[1;32mIn[185], line 5\u001b[0m\n\u001b[0;32m      3\u001b[0m \u001b[38;5;28;01mimport\u001b[39;00m \u001b[38;5;21;01mpandas\u001b[39;00m \u001b[38;5;28;01mas\u001b[39;00m \u001b[38;5;21;01mpd\u001b[39;00m\n\u001b[0;32m      4\u001b[0m \u001b[38;5;28;01mfrom\u001b[39;00m \u001b[38;5;21;01mpyfaidx\u001b[39;00m \u001b[38;5;28;01mimport\u001b[39;00m Fasta\n\u001b[1;32m----> 5\u001b[0m \u001b[38;5;28;01mimport\u001b[39;00m \u001b[38;5;21;01mmatplotlib\u001b[39;00m\u001b[38;5;21;01m.\u001b[39;00m\u001b[38;5;21;01mpyplot\u001b[39;00m \u001b[38;5;28;01mas\u001b[39;00m \u001b[38;5;21;01mplt\u001b[39;00m\n\u001b[0;32m      7\u001b[0m PATH \u001b[38;5;241m=\u001b[39m \u001b[38;5;124m'\u001b[39m\u001b[38;5;124m../GenomeData/\u001b[39m\u001b[38;5;124m'\u001b[39m\n\u001b[0;32m      9\u001b[0m ubsseq_data_raw \u001b[38;5;241m=\u001b[39m pd\u001b[38;5;241m.\u001b[39mread_excel(\u001b[38;5;124m\"\u001b[39m\u001b[38;5;124mubsseq_preprocessed_data.xlsx\u001b[39m\u001b[38;5;124m\"\u001b[39m)\n",
      "\u001b[1;31mModuleNotFoundError\u001b[0m: No module named 'matplotlib'"
     ]
    }
   ],
   "source": [
    "import random\n",
    "import math\n",
    "import pandas as pd\n",
    "from pyfaidx import Fasta\n",
    "import matplotlib.pyplot as plt\n",
    "\n",
    "PATH = '../GenomeData/'\n",
    "\n",
    "ubsseq_data_raw = pd.read_excel(\"ubsseq_preprocessed_data.xlsx\")"
   ]
  },
  {
   "cell_type": "markdown",
   "metadata": {},
   "source": [
    "\n",
    "## Functions\n"
   ]
  },
  {
   "cell_type": "code",
   "execution_count": null,
   "metadata": {},
   "outputs": [],
   "source": [
    "def randomise_centre_position(position, extended_length, centre_offset_ratio):\n",
    "    '''\n",
    "    Usage:\n",
    "    ???\n",
    "    centre_offset_ratio should be between 0 and 50\n",
    "    '''\n",
    "    rand_offset = random.randint(0, int(centre_offset_ratio * 100))\n",
    "    start = position -  int(rand_offset * extended_length * 0.01) #error handling?\n",
    "    #return start & end position\n",
    "    return (start, start+extended_length)"
   ]
  },
  {
   "cell_type": "code",
   "execution_count": null,
   "metadata": {},
   "outputs": [],
   "source": [
    "def extract_seq_genome(genome, chrom, start, end, strand = '+'):\n",
    "    '''\n",
    "    ath: tair10\n",
    "    cel: cel235\n",
    "    hsa: hg38\n",
    "    mmu: mm10\n",
    "\n",
    "    Usage:\n",
    "        - If strand == '+', return sequence\n",
    "        - If strand == '-', return sequence revese complementary\n",
    "        - With hg38.get_seq(chrom, start, end, rc= strand == '-').seq get correct position of miRNA,\n",
    "        for mapping result, you should modify by yourself.\n",
    "    '''\n",
    "    \n",
    "    if genome == 'cel':\n",
    "        genome = 'cel235'\n",
    "    elif genome == 'hsa':\n",
    "        genome = 'hg38'\n",
    "    elif genome == 'mmu':\n",
    "        genome = 'mm10'\n",
    "    elif genome == 'ath':\n",
    "        genome = 'tair10'\n",
    "    elif genome == 'mml':\n",
    "        genome = 'Macaca_mulatta.Mmul_10.dna.toplevel'\n",
    "    elif genome == 'dre':\n",
    "        genome = 'Danio_rerio.GRCz11.dna.primary_assembly'\n",
    "    elif genome == 'dme':\n",
    "        genome = 'Drosophila_melanogaster.BDGP6.32.dna.toplevel'\n",
    "\n",
    "\n",
    "    gene = Fasta(f\"{PATH}/{genome}.fa\") \n",
    "    \n",
    "    #hg38.get_seq('chr1', 100009588 + 1, 100009608, rc=False).seq\n",
    "    return(gene.get_seq(chrom, start+1, end, rc= strand == '-').seq)"
   ]
  },
  {
   "cell_type": "markdown",
   "metadata": {},
   "source": [
    "\n",
    "## Handling Preprocessed Data\n"
   ]
  },
  {
   "cell_type": "code",
   "execution_count": null,
   "metadata": {},
   "outputs": [
    {
     "name": "stdout",
     "output_type": "stream",
     "text": [
      "Index(['chrom', 'pos', 'strand', 'gene_type', 'gene_name', 'gene_pos',\n",
      "       'unconverted', 'converted', 'ratio_siControl', 'ratio_siNSUN6',\n",
      "       'delta_ratio'],\n",
      "      dtype='object')\n",
      "Index(['chrom', 'pos', 'strand'], dtype='object')\n"
     ]
    }
   ],
   "source": [
    "print(ubsseq_data_raw.columns)\n",
    "ubsseq_data_positional = ubsseq_data_raw.drop([\n",
    "    'gene_type','gene_name','gene_pos','unconverted','converted','ratio_siControl','ratio_siNSUN6','delta_ratio'\n",
    "    ], axis=1)\n",
    "print(ubsseq_data_positional.columns)"
   ]
  },
  {
   "cell_type": "markdown",
   "metadata": {},
   "source": [
    "Need to identify ratio threshold"
   ]
  },
  {
   "cell_type": "code",
   "execution_count": null,
   "metadata": {},
   "outputs": [
    {
     "ename": "NameError",
     "evalue": "name 'plt' is not defined",
     "output_type": "error",
     "traceback": [
      "\u001b[1;31m---------------------------------------------------------------------------\u001b[0m",
      "\u001b[1;31mNameError\u001b[0m                                 Traceback (most recent call last)",
      "Cell \u001b[1;32mIn[184], line 1\u001b[0m\n\u001b[1;32m----> 1\u001b[0m \u001b[43mplt\u001b[49m\u001b[38;5;241m.\u001b[39mscatter(ubsseq_data_raw[\u001b[38;5;124m'\u001b[39m\u001b[38;5;124mratio_siNSUN6\u001b[39m\u001b[38;5;124m'\u001b[39m, \u001b[38;5;124m'\u001b[39m\u001b[38;5;124mratio_siControl\u001b[39m\u001b[38;5;124m'\u001b[39m])\n\u001b[0;32m      2\u001b[0m plt\u001b[38;5;241m.\u001b[39mshow\n",
      "\u001b[1;31mNameError\u001b[0m: name 'plt' is not defined"
     ]
    }
   ],
   "source": [
    "plt.scatter(ubsseq_data_raw['ratio_siNSUN6', 'ratio_siControl'])\n",
    "plt.show"
   ]
  },
  {
   "cell_type": "markdown",
   "metadata": {},
   "source": [
    "\n",
    "## Runs\n"
   ]
  },
  {
   "cell_type": "markdown",
   "metadata": {},
   "source": [
    "Once extended (extend by 50:50, 30:70, 70:30 for each sequence - always length of 101) sequences are collected, add them to a fasta file. Label fasta entries as...\n",
    "- posx-50-50\n",
    "- posx-30-70\n",
    "- posx-70-30"
   ]
  },
  {
   "cell_type": "code",
   "execution_count": null,
   "metadata": {},
   "outputs": [
    {
     "name": "stdout",
     "output_type": "stream",
     "text": [
      "chrom\n",
      "pos\n",
      "strand\n",
      "(944475, 944485)\n",
      "AGCCCACAGC\n",
      "10\n",
      "C\n"
     ]
    }
   ],
   "source": [
    "chrome = 'chr1'\n",
    "position = 944475\n",
    "\n",
    "gene = Fasta(f\"{PATH}/hg38.fa\") \n",
    "#gene.keys()\n",
    "#gene['chr1'][94475:94500].seq\n",
    "#start_end = randomise_centre_position(position, 10, 0)\n",
    "out = extract_seq_genome(\"hg38\", chrome, position, position+10, strand = '+')\n",
    "\n",
    "for sample in ubsseq_data_positional:\n",
    "    print(sample)\n",
    "\n",
    "print(start_end)\n",
    "print(out)\n",
    "print(len(out))\n",
    "print(out[math.floor((len(out)-1)/2)])"
   ]
  },
  {
   "cell_type": "code",
   "execution_count": null,
   "metadata": {},
   "outputs": [
    {
     "name": "stdout",
     "output_type": "stream",
     "text": [
      "GCA\n",
      "AGCAG\n",
      "CAGCAGC\n",
      "TCAGCAGCC\n",
      "TTCAGCAGCCC\n",
      "CTTCAGCAGCCCA\n",
      "ACTTCAGCAGCCCAC\n",
      "GACTTCAGCAGCCCACA\n",
      "TGACTTCAGCAGCCCACAG\n",
      "CTGACTTCAGCAGCCCACAGC\n",
      "GCTGACTTCAGCAGCCCACAGCT\n",
      "AGCTGACTTCAGCAGCCCACAGCTG\n",
      "GAGCTGACTTCAGCAGCCCACAGCTGT\n",
      "GGAGCTGACTTCAGCAGCCCACAGCTGTG\n",
      "CGGAGCTGACTTCAGCAGCCCACAGCTGTGG\n",
      "GCGGAGCTGACTTCAGCAGCCCACAGCTGTGGG\n",
      "CGCGGAGCTGACTTCAGCAGCCCACAGCTGTGGGG\n",
      "CCGCGGAGCTGACTTCAGCAGCCCACAGCTGTGGGGC\n",
      "CCCGCGGAGCTGACTTCAGCAGCCCACAGCTGTGGGGCT\n"
     ]
    }
   ],
   "source": [
    "for i in range(1,20):\n",
    "    print(extract_seq_genome(\"hg38\", chrome, position-1-i, position+i, strand = '+'))\n",
    "\n"
   ]
  }
 ],
 "metadata": {
  "kernelspec": {
   "display_name": "MLRNA",
   "language": "python",
   "name": "python3"
  },
  "language_info": {
   "codemirror_mode": {
    "name": "ipython",
    "version": 3
   },
   "file_extension": ".py",
   "mimetype": "text/x-python",
   "name": "python",
   "nbconvert_exporter": "python",
   "pygments_lexer": "ipython3",
   "version": "3.12.1"
  }
 },
 "nbformat": 4,
 "nbformat_minor": 2
}
