{
 "cells": [
  {
   "cell_type": "markdown",
   "metadata": {},
   "source": [
    "\n",
    "# Example Pyfaidx Code"
   ]
  },
  {
   "cell_type": "markdown",
   "metadata": {},
   "source": [
    "\n",
    "## Imports & Path Set-up\n"
   ]
  },
  {
   "cell_type": "code",
   "execution_count": 1,
   "metadata": {},
   "outputs": [
    {
     "name": "stderr",
     "output_type": "stream",
     "text": [
      "c:\\Users\\joele\\JoelsPrograms\\miniconda3\\envs\\MLRNA\\Lib\\site-packages\\openpyxl\\worksheet\\_read_only.py:79: UserWarning: Unknown extension is not supported and will be removed\n",
      "  for idx, row in parser.parse():\n",
      "c:\\Users\\joele\\JoelsPrograms\\miniconda3\\envs\\MLRNA\\Lib\\site-packages\\openpyxl\\worksheet\\_read_only.py:79: UserWarning: Conditional Formatting extension is not supported and will be removed\n",
      "  for idx, row in parser.parse():\n"
     ]
    }
   ],
   "source": [
    "import random\n",
    "import math\n",
    "import pandas as pd\n",
    "from pyfaidx import Fasta\n",
    "import matplotlib.pyplot as plt\n",
    "\n",
    "PATH = '../GenomeData/'\n",
    "\n",
    "ubsseq_data_raw = pd.read_excel(\"ubsseq_preprocessed_data.xlsx\")"
   ]
  },
  {
   "cell_type": "markdown",
   "metadata": {},
   "source": [
    "\n",
    "## Functions\n"
   ]
  },
  {
   "cell_type": "code",
   "execution_count": 2,
   "metadata": {},
   "outputs": [],
   "source": [
    "def randomise_centre_position(position, extended_length, centre_offset_ratio):\n",
    "    '''\n",
    "    Usage:\n",
    "    ???\n",
    "    centre_offset_ratio should be between 0 and 50\n",
    "    '''\n",
    "    rand_offset = random.randint(0, int(centre_offset_ratio * 100))\n",
    "    start = position -  int(rand_offset * extended_length * 0.01) #error handling?\n",
    "    #return start & end position\n",
    "    return (start, start+extended_length)"
   ]
  },
  {
   "cell_type": "code",
   "execution_count": 3,
   "metadata": {},
   "outputs": [],
   "source": [
    "def extract_seq_genome(genome, chrom, start, end, strand = '+'):\n",
    "    '''\n",
    "    ath: tair10\n",
    "    cel: cel235\n",
    "    hsa: hg38\n",
    "    mmu: mm10\n",
    "\n",
    "    Usage:\n",
    "        - If strand == '+', return sequence\n",
    "        - If strand == '-', return sequence revese complementary\n",
    "        - With hg38.get_seq(chrom, start, end, rc= strand == '-').seq get correct position of miRNA,\n",
    "        for mapping result, you should modify by yourself.\n",
    "    '''\n",
    "    \n",
    "    if genome == 'cel':\n",
    "        genome = 'cel235'\n",
    "    elif genome == 'hsa':\n",
    "        genome = 'hg38'\n",
    "    elif genome == 'mmu':\n",
    "        genome = 'mm10'\n",
    "    elif genome == 'ath':\n",
    "        genome = 'tair10'\n",
    "    elif genome == 'mml':\n",
    "        genome = 'Macaca_mulatta.Mmul_10.dna.toplevel'\n",
    "    elif genome == 'dre':\n",
    "        genome = 'Danio_rerio.GRCz11.dna.primary_assembly'\n",
    "    elif genome == 'dme':\n",
    "        genome = 'Drosophila_melanogaster.BDGP6.32.dna.toplevel'\n",
    "\n",
    "\n",
    "    gene = Fasta(f\"{PATH}/{genome}.fa\") \n",
    "    \n",
    "    #hg38.get_seq('chr1', 100009588 + 1, 100009608, rc=False).seq\n",
    "    return(gene.get_seq(chrom, start+1, end, rc= strand == '-').seq)"
   ]
  },
  {
   "cell_type": "markdown",
   "metadata": {},
   "source": [
    "\n",
    "## Handling Preprocessed Data\n"
   ]
  },
  {
   "cell_type": "code",
   "execution_count": 4,
   "metadata": {},
   "outputs": [
    {
     "name": "stdout",
     "output_type": "stream",
     "text": [
      "Index(['chrom', 'pos', 'strand', 'gene_type', 'gene_name', 'gene_pos',\n",
      "       'unconverted', 'converted', 'ratio_siControl', 'ratio_siNSUN6',\n",
      "       'delta_ratio'],\n",
      "      dtype='object')\n",
      "Index(['chrom', 'pos', 'strand'], dtype='object')\n"
     ]
    }
   ],
   "source": [
    "print(ubsseq_data_raw.columns)\n",
    "ubsseq_data_positional = ubsseq_data_raw.drop([\n",
    "    'gene_type','gene_name','gene_pos','unconverted','converted','ratio_siControl','ratio_siNSUN6','delta_ratio'\n",
    "    ], axis=1)\n",
    "print(ubsseq_data_positional.columns)"
   ]
  },
  {
   "cell_type": "markdown",
   "metadata": {},
   "source": [
    "Need to identify ratio threshold"
   ]
  },
  {
   "cell_type": "markdown",
   "metadata": {},
   "source": [
    "\n",
    "## Runs\n"
   ]
  },
  {
   "cell_type": "markdown",
   "metadata": {},
   "source": [
    "Once extended (extend by 50:50, 30:70, 70:30 for each sequence - always length of 101) sequences are collected, add them to a fasta file. Label fasta entries as...\n",
    "- posx-50-50\n",
    "- posx-30-70\n",
    "- posx-70-30"
   ]
  },
  {
   "cell_type": "code",
   "execution_count": 7,
   "metadata": {},
   "outputs": [
    {
     "name": "stdout",
     "output_type": "stream",
     "text": [
      "odict_keys(['chr1', 'chr2', 'chr3', 'chr4', 'chr5', 'chr6', 'chr7', 'chr8', 'chr9', 'chr10', 'chr11', 'chr12', 'chr13', 'chr14', 'chr15', 'chr16', 'chr17', 'chr18', 'chr19', 'chr20', 'chr21', 'chr22', 'chrX', 'chrY', 'chrM', 'GL000008.2', 'GL000009.2', 'GL000194.1', 'GL000195.1', 'GL000205.2', 'GL000208.1', 'GL000213.1', 'GL000214.1', 'GL000216.2', 'GL000218.1', 'GL000219.1', 'GL000220.1', 'GL000221.1', 'GL000224.1', 'GL000225.1', 'GL000226.1', 'KI270302.1', 'KI270303.1', 'KI270304.1', 'KI270305.1', 'KI270310.1', 'KI270311.1', 'KI270312.1', 'KI270315.1', 'KI270316.1', 'KI270317.1', 'KI270320.1', 'KI270322.1', 'KI270329.1', 'KI270330.1', 'KI270333.1', 'KI270334.1', 'KI270335.1', 'KI270336.1', 'KI270337.1', 'KI270338.1', 'KI270340.1', 'KI270362.1', 'KI270363.1', 'KI270364.1', 'KI270366.1', 'KI270371.1', 'KI270372.1', 'KI270373.1', 'KI270374.1', 'KI270375.1', 'KI270376.1', 'KI270378.1', 'KI270379.1', 'KI270381.1', 'KI270382.1', 'KI270383.1', 'KI270384.1', 'KI270385.1', 'KI270386.1', 'KI270387.1', 'KI270388.1', 'KI270389.1', 'KI270390.1', 'KI270391.1', 'KI270392.1', 'KI270393.1', 'KI270394.1', 'KI270395.1', 'KI270396.1', 'KI270411.1', 'KI270412.1', 'KI270414.1', 'KI270417.1', 'KI270418.1', 'KI270419.1', 'KI270420.1', 'KI270422.1', 'KI270423.1', 'KI270424.1', 'KI270425.1', 'KI270429.1', 'KI270435.1', 'KI270438.1', 'KI270442.1', 'KI270448.1', 'KI270465.1', 'KI270466.1', 'KI270467.1', 'KI270468.1', 'KI270507.1', 'KI270508.1', 'KI270509.1', 'KI270510.1', 'KI270511.1', 'KI270512.1', 'KI270515.1', 'KI270516.1', 'KI270517.1', 'KI270518.1', 'KI270519.1', 'KI270521.1', 'KI270522.1', 'KI270528.1', 'KI270529.1', 'KI270530.1', 'KI270538.1', 'KI270539.1', 'KI270544.1', 'KI270548.1', 'KI270579.1', 'KI270580.1', 'KI270581.1', 'KI270582.1', 'KI270583.1', 'KI270584.1', 'KI270587.1', 'KI270588.1', 'KI270589.1', 'KI270590.1', 'KI270591.1', 'KI270593.1', 'KI270706.1', 'KI270707.1', 'KI270708.1', 'KI270709.1', 'KI270710.1', 'KI270711.1', 'KI270712.1', 'KI270713.1', 'KI270714.1', 'KI270715.1', 'KI270716.1', 'KI270717.1', 'KI270718.1', 'KI270719.1', 'KI270720.1', 'KI270721.1', 'KI270722.1', 'KI270723.1', 'KI270724.1', 'KI270725.1', 'KI270726.1', 'KI270727.1', 'KI270728.1', 'KI270729.1', 'KI270730.1', 'KI270731.1', 'KI270732.1', 'KI270733.1', 'KI270734.1', 'KI270735.1', 'KI270736.1', 'KI270737.1', 'KI270738.1', 'KI270739.1', 'KI270740.1', 'KI270741.1', 'KI270742.1', 'KI270743.1', 'KI270744.1', 'KI270745.1', 'KI270746.1', 'KI270747.1', 'KI270748.1', 'KI270749.1', 'KI270750.1', 'KI270751.1', 'KI270752.1', 'KI270753.1', 'KI270754.1', 'KI270755.1', 'KI270756.1', 'KI270757.1'])\n",
      "chrom\n",
      "pos\n",
      "strand\n",
      "(944475, 944485)\n",
      "AGCCCACAGC\n",
      "10\n",
      "C\n"
     ]
    }
   ],
   "source": [
    "chrome = 'chr1'\n",
    "position = 944475\n",
    "\n",
    "gene = Fasta(f\"{PATH}/hg38.fa\") \n",
    "print(gene.keys())\n",
    "#gene['chr1'][94475:94500].seq\n",
    "start_end = randomise_centre_position(position, 10, 0)\n",
    "out = extract_seq_genome(\"hg38\", chrome, position, position+10, strand = '+')\n",
    "\n",
    "for sample in ubsseq_data_positional:\n",
    "    print(sample)\n",
    "\n",
    "print(start_end)\n",
    "print(out)\n",
    "print(len(out))\n",
    "print(out[math.floor((len(out)-1)/2)])"
   ]
  },
  {
   "cell_type": "code",
   "execution_count": 6,
   "metadata": {},
   "outputs": [
    {
     "name": "stdout",
     "output_type": "stream",
     "text": [
      "GCA\n",
      "AGCAG\n",
      "CAGCAGC\n",
      "TCAGCAGCC\n",
      "TTCAGCAGCCC\n",
      "CTTCAGCAGCCCA\n",
      "ACTTCAGCAGCCCAC\n",
      "GACTTCAGCAGCCCACA\n",
      "TGACTTCAGCAGCCCACAG\n",
      "CTGACTTCAGCAGCCCACAGC\n",
      "GCTGACTTCAGCAGCCCACAGCT\n",
      "AGCTGACTTCAGCAGCCCACAGCTG\n",
      "GAGCTGACTTCAGCAGCCCACAGCTGT\n",
      "GGAGCTGACTTCAGCAGCCCACAGCTGTG\n",
      "CGGAGCTGACTTCAGCAGCCCACAGCTGTGG\n",
      "GCGGAGCTGACTTCAGCAGCCCACAGCTGTGGG\n",
      "CGCGGAGCTGACTTCAGCAGCCCACAGCTGTGGGG\n",
      "CCGCGGAGCTGACTTCAGCAGCCCACAGCTGTGGGGC\n",
      "CCCGCGGAGCTGACTTCAGCAGCCCACAGCTGTGGGGCT\n"
     ]
    }
   ],
   "source": [
    "for i in range(1,20):\n",
    "    print(extract_seq_genome(\"hg38\", chrome, position-1-i, position+i, strand = '+'))\n",
    "\n"
   ]
  }
 ],
 "metadata": {
  "kernelspec": {
   "display_name": "MLRNA",
   "language": "python",
   "name": "python3"
  },
  "language_info": {
   "codemirror_mode": {
    "name": "ipython",
    "version": 3
   },
   "file_extension": ".py",
   "mimetype": "text/x-python",
   "name": "python",
   "nbconvert_exporter": "python",
   "pygments_lexer": "ipython3",
   "version": "3.12.1"
  }
 },
 "nbformat": 4,
 "nbformat_minor": 2
}
